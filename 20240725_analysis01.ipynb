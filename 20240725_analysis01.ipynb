{
 "cells": [
  {
   "cell_type": "markdown",
   "metadata": {},
   "source": [
    "The following script in Python unifies the different gene symbols returned by each software and database.       \n",
    "        \n",
    "Gene symbols were unified with a given list of BLEEs and Carbapenemases genes (BLEES and CPO, respectively).        \n",
    "        \n",
    "The gene symbols' have been previously modified using Excel for visual simplicity, with these modifications having been:        \n",
    " 1) Removal of the string \"bla\" (beta-lactamase) at the beginning of the gene symbol, since this characters would appear in certain tools' and databases' outputs, but not in others.\n",
    " 2) Replacement of the hyphen \"-\" for an underscore \"_\", since the use of those signs was mixed among the tools' and databases' outputs.\n",
    "    "
   ]
  },
  {
   "cell_type": "code",
   "execution_count": 1,
   "metadata": {},
   "outputs": [],
   "source": [
    "import os\n",
    "import pandas as pd\n",
    "import openpyxl\n",
    "import json\n",
    "import datetime\n"
   ]
  },
  {
   "cell_type": "code",
   "execution_count": 9,
   "metadata": {},
   "outputs": [],
   "source": [
    "#define a function to edit the samples' names, which originally comes with the \"_report.tsv\" attached.\n",
    "def trim_sample_name(data, column_to_trim, part_to_trim):\n",
    "    data[column_to_trim] = data[column_to_trim].str.replace(part_to_trim, \"\", regex = False)\n",
    "    return data\n",
    "\n",
    "#define a function to apply the genes' nomenclatures equivalences to the data.\n",
    "def apply_equivalences(df, dict_equivalences):\n",
    "    columns = list(df.columns)\n",
    "    df[\"gene_symbol_modified\"] = df[\"gene_symbol\"].map(dict_equivalences).fillna(df[\"gene_symbol\"])\n",
    "    if columns[2] != \"gene_symbol_modified\":\n",
    "        columns.insert(2,\"gene_symbol_modified\")\n",
    "        # columns.pop(-1)\n",
    "        df = df[columns]\n",
    "    else:\n",
    "        print (f\"the column gene_symbol_modified has already been added for this dataframe\")\n",
    "    return df\n",
    "\n",
    "#the output in ABRicate-ResFinder is a little bit different from the one in ABRicate-card/ncbi, so we need to create a new function to apply the equivalences to the ABRicate-ResFinder output. ç\n",
    "#the difference lays on the fact that the gene_symbol is in the column \"gene_name\" in the ABRicate-ResFinder output.\n",
    "def apply_equivalences2(df, dict_equivalences):\n",
    "    columns = list(df.columns)\n",
    "    df[\"gene_symbol_modified\"] = df[\"gene_name\"].map(dict_equivalences).fillna(df[\"gene_name\"])\n",
    "    if columns[2] != \"gene_symbol_modified\":\n",
    "        columns.insert(2,\"gene_symbol_modified\")\n",
    "        df = df[columns]\n",
    "    else:\n",
    "        print (f\"the column gene_symbol_modified has already been added for this dataframe\")\n",
    "    return df"
   ]
  },
  {
   "cell_type": "code",
   "execution_count": 2,
   "metadata": {},
   "outputs": [],
   "source": [
    "\n",
    "#open the dictionaries of equivalences that have been prevoiusly created in Excel\n",
    "\n",
    "file_path = \"equivalencias.xlsx\"\n",
    "\n",
    "data_equivalences = pd.read_excel(file_path, sheet_name = \"equivalencias\")\n",
    "\n",
    "keys_ariba = data_equivalences['all_unmodified_ARIBA']\n",
    "values_ariba = data_equivalences['all_modified_ARIBA']\n",
    "\n",
    "keys_abricate = data_equivalences['all_unmodified_ABRICATE']\n",
    "values_abricate = data_equivalences['all_modified_ABRICATE']\n",
    "\n",
    "keys_amrfinderplus = data_equivalences['all_unmodified_AMRFINDERPLUS']\n",
    "values_amrfinderplus = data_equivalences['all_modified_AMRFINDERPLUS']\n",
    "\n",
    "keys_rgi = data_equivalences['all_unmodified_RGI']\n",
    "values_rgi = data_equivalences['all_modified_RGI']\n",
    "\n",
    "keys_BLEE = data_equivalences['BLEE_unmodified']\n",
    "values_BLEE = data_equivalences['BLEE_modified']\n",
    "\n",
    "keys_CPO = data_equivalences['CPO_unmodified']\n",
    "values_CPO = data_equivalences['CPO_modified']\n",
    "\n"
   ]
  },
  {
   "cell_type": "code",
   "execution_count": 3,
   "metadata": {},
   "outputs": [],
   "source": [
    "\n",
    "#create dictionaries of equivalences for every tool and list\n",
    "dict_eq_ariba = dict(zip(keys_ariba, values_ariba))\n",
    "dict_eq_abricate = dict(zip(keys_abricate, values_abricate))\n",
    "dict_eq_amrfinderplus = dict(zip(keys_amrfinderplus, values_amrfinderplus))\n",
    "dict_eq_rgi = dict(zip(keys_rgi, values_rgi))\n",
    "\n",
    "dict_eq_BLEE = dict(zip(keys_BLEE, values_BLEE))\n",
    "dict_eq_CPO = dict(zip(keys_CPO, values_CPO))"
   ]
  },
  {
   "cell_type": "code",
   "execution_count": 5,
   "metadata": {},
   "outputs": [],
   "source": [
    "#import hAMRonization reports as dataframes.\n",
    "path_hamronization_data = \"../20240701hAMRonization\"\n",
    "\n",
    "ariba_CARD = pd.read_csv(path_hamronization_data  + \"/ariba/hamronized_ariba_CARD.tsv\", sep = \"\\t\")\n",
    "ariba_NCBI = pd.read_csv(path_hamronization_data  + \"/ariba/hamronized_ariba_NCBI.tsv\", sep = \"\\t\")\n",
    "ariba_RESFINDER = pd.read_csv(path_hamronization_data  + \"/ariba/hamronized_ariba_RESFINDER.tsv\", sep = \"\\t\")\n",
    "\n",
    "abricate_CARD = pd.read_csv(path_hamronization_data  + \"/abricate/ABRICATE_hamronization_combined_report_card.tsv\", sep = \"\\t\")\n",
    "abricate_NCBI = pd.read_csv(path_hamronization_data + \"/abricate/ABRICATE_hamronization_combined_report_ncbi.tsv\", sep = \"\\t\")\n",
    "abricate_RESFINDER = pd.read_csv(path_hamronization_data + \"/abricate/ABRICATE_hamronization_combined_report_resfinder.tsv\", sep = \"\\t\")\n",
    "\n",
    "amrfinderplus_NCBI = pd.read_csv(path_hamronization_data + \"/amrfinderplus/amrfinderplus_hamronization_combined_report_ncbi.tsv\", sep = \"\\t\")\n",
    "\n",
    "rgi_CARD = pd.read_csv(path_hamronization_data + \"/rgi/RGI_hamronization_combined_report_card.tsv\", sep = \"\\t\")\n"
   ]
  },
  {
   "cell_type": "code",
   "execution_count": 8,
   "metadata": {},
   "outputs": [],
   "source": [
    "#group the reports belonging to the same tool. This dictionaries are only used to store the names and iterate\n",
    "#through the variables. The necessary modifications on the dataframes are performed at the level of the global variable (ariba_CARD, ariba_NCBI, etc.)\n",
    "reports_ariba = {\n",
    "    \"ariba_CARD\": ariba_CARD,\n",
    "    \"ariba_NCBI\": ariba_NCBI,\n",
    "    \"ariba_RESFINDER\": ariba_RESFINDER\n",
    "}\n",
    "\n",
    "reports_abricate = {\n",
    "    \"abricate_CARD\": abricate_CARD,\n",
    "    \"abricate_NCBI\": abricate_NCBI,\n",
    "    \"abricate_RESFINDER\": abricate_RESFINDER\n",
    "}\n",
    "\n",
    "all_reports = {\n",
    "    \"ariba_CARD\": ariba_CARD,\n",
    "    \"ariba_NCBI\": ariba_NCBI,\n",
    "    \"ariba_RESFINDER\": ariba_RESFINDER,\n",
    "    \"abricate_CARD\": abricate_CARD,\n",
    "    \"abricate_NCBI\": abricate_NCBI,\n",
    "    \"abricate_RESFINDER\": abricate_RESFINDER,\n",
    "    \"amrfinderplus_NCBI\": amrfinderplus_NCBI,\n",
    "    \"rgi_CARD\": rgi_CARD\n",
    "\n",
    "}\n"
   ]
  },
  {
   "cell_type": "code",
   "execution_count": 11,
   "metadata": {},
   "outputs": [],
   "source": [
    "#1. Trim the extra \"report.tsv\", \".txt\", etc that comes with the sample_name in hAMROnization reports' column \"input_file_name\". This value may differ among the different tools,\n",
    "#so the \"part_to_trim\" variable has to be adjusted.\n",
    "#2. with the function apply_equivalences, create new columns with the modified gene symbols according to the equivalences dictionaries.\n",
    "\n",
    "for key, value in reports_ariba.items():\n",
    "    globals()[key] = apply_equivalences(trim_sample_name(value, \"input_file_name\", \"_report.tsv\") , dict_eq_ariba)\n",
    "\n",
    "for key, value in reports_abricate.items():\n",
    "    if key != \"abricate_RESFINDER\":\n",
    "        globals()[key] = apply_equivalences(trim_sample_name(value, \"input_file_name\", \"_report.tsv\"), dict_eq_abricate)\n",
    "    elif key == \"abricate_RESFINDER\":\n",
    "        globals()[key] = apply_equivalences2(trim_sample_name(value, \"input_file_name\", \"_report.tsv\"), dict_eq_abricate)\n",
    "\n",
    "rgi_CARD = apply_equivalences(trim_sample_name(rgi_CARD, \"input_file_name\", \".txt.rgi\"), dict_eq_rgi)\n",
    "amrfinderplus_NCBI = apply_equivalences(trim_sample_name(amrfinderplus_NCBI, \"input_file_name\", \".tsv.amrfinderplus\"), dict_eq_amrfinderplus)"
   ]
  },
  {
   "cell_type": "code",
   "execution_count": 20,
   "metadata": {},
   "outputs": [],
   "source": [
    "#remove duplicate genes in each column\n",
    "for key, value in all_reports.items():\n",
    "    all_reports[key] = value.drop_duplicates(subset = [\"input_file_name\", \"gene_symbol_modified\"])\n",
    "    globals()[key] = all_reports[key]"
   ]
  },
  {
   "cell_type": "code",
   "execution_count": 13,
   "metadata": {},
   "outputs": [],
   "source": [
    "#define matrices of equivalences for BLEE and CPOs.\n",
    "df_eq_BLEE = pd.DataFrame(dict_eq_BLEE.items(), columns = [\"blee_unmodified\", \"blee_modified\"])\n",
    "df_eq_CPO = pd.DataFrame(dict_eq_CPO.items(), columns = [\"cpo_unmodified\", \"cpo_modified\"])"
   ]
  },
  {
   "cell_type": "code",
   "execution_count": 21,
   "metadata": {},
   "outputs": [],
   "source": [
    "#define and create a directory to store the dataframes with the modified gene column added.\n",
    "\n",
    "path_modified_reports = \"reports_modified\"\n",
    "currentdate = datetime.datetime.now().strftime(\"%Y%m%d\")\n",
    "\n",
    "\n",
    "if not os.path.exists(path_modified_reports):\n",
    "    os.mkdir(path_modified_reports)\n",
    "\n",
    "#save dataframes with the modified gene column added.\n",
    "for key, value in reports_ariba.items():\n",
    "    file = globals()[key]\n",
    "    file.to_csv(os.path.join(path_modified_reports + \"/\" + currentdate + key + \"_modified.tsv\"), index = False, sep = \"\\t\")\n",
    "\n",
    "for key, value in reports_abricate.items():\n",
    "    file = globals()[key]\n",
    "    file.to_csv(os.path.join(path_modified_reports + \"/\" + currentdate + key + \"_modified.tsv\"), index = False, sep = \"\\t\")\n",
    "\n",
    "rgi_CARD.to_csv(os.path.join(path_modified_reports + \"/\" + currentdate + \"rgi_CARD_modified.tsv\"), index = False, sep = \"\\t\")\n",
    "amrfinderplus_NCBI.to_csv(os.path.join(path_modified_reports + \"/\" + currentdate + \"amrfinderplus_NCBI_modified.tsv\"), index = False, sep = \"\\t\")\n"
   ]
  },
  {
   "cell_type": "code",
   "execution_count": 23,
   "metadata": {},
   "outputs": [],
   "source": [
    "#save reference lists\n",
    "df_eq_BLEE.to_csv(os.path.join(path_modified_reports + \"/\" + currentdate + \"eq_BLEE.tsv\"), index = False, sep = \"\\t\")\n",
    "df_eq_CPO.to_csv(os.path.join(path_modified_reports + \"/\" + currentdate  + \"eq_CPO.tsv\"), index = False, sep = \"\\t\")"
   ]
  }
 ],
 "metadata": {
  "kernelspec": {
   "display_name": "Python 3",
   "language": "python",
   "name": "python3"
  },
  "language_info": {
   "codemirror_mode": {
    "name": "ipython",
    "version": 3
   },
   "file_extension": ".py",
   "mimetype": "text/x-python",
   "name": "python",
   "nbconvert_exporter": "python",
   "pygments_lexer": "ipython3",
   "version": "3.11.7"
  }
 },
 "nbformat": 4,
 "nbformat_minor": 2
}
